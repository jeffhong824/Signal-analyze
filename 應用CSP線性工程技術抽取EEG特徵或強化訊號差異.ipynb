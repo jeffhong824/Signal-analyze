{
 "cells": [
  {
   "cell_type": "code",
   "execution_count": 1,
   "metadata": {},
   "outputs": [
    {
     "name": "stdout",
     "output_type": "stream",
     "text": [
      "Automatically created module for IPython interactive environment\n",
      "Extracting EDF parameters from C:\\Users\\student\\mne_data\\MNE-eegbci-data\\physiobank\\database\\eegmmidb\\S001\\S001R06.edf...\n",
      "EDF file detected\n",
      "Setting channel info structure...\n",
      "Creating raw.info structure...\n",
      "Reading 0 ... 19999  =      0.000 ...   124.994 secs...\n",
      "Extracting EDF parameters from C:\\Users\\student\\mne_data\\MNE-eegbci-data\\physiobank\\database\\eegmmidb\\S001\\S001R10.edf...\n",
      "EDF file detected\n",
      "Setting channel info structure...\n",
      "Creating raw.info structure...\n",
      "Reading 0 ... 19999  =      0.000 ...   124.994 secs...\n",
      "Extracting EDF parameters from C:\\Users\\student\\mne_data\\MNE-eegbci-data\\physiobank\\database\\eegmmidb\\S001\\S001R14.edf...\n",
      "EDF file detected\n",
      "Setting channel info structure...\n",
      "Creating raw.info structure...\n",
      "Reading 0 ... 19999  =      0.000 ...   124.994 secs...\n",
      "Filtering raw data in 3 contiguous segments\n",
      "Setting up band-pass filter from 7 - 30 Hz\n",
      "\n",
      "FIR filter parameters\n",
      "---------------------\n",
      "Designing a one-pass, zero-phase, non-causal bandpass filter:\n",
      "- Windowed time-domain design (firwin) method\n",
      "- Hamming window with 0.0194 passband ripple and 53 dB stopband attenuation\n",
      "- Lower passband edge: 7.00\n",
      "- Lower transition bandwidth: 2.00 Hz (-6 dB cutoff frequency: 6.00 Hz)\n",
      "- Upper passband edge: 30.00 Hz\n",
      "- Upper transition bandwidth: 7.50 Hz (-6 dB cutoff frequency: 33.75 Hz)\n",
      "- Filter length: 265 samples (1.656 sec)\n",
      "\n",
      "Used Annotations descriptions: ['T1', 'T2']\n",
      "45 matching events found\n",
      "No baseline correction applied\n",
      "Not setting metadata\n",
      "0 projection items activated\n",
      "Loading data for 45 events and 801 original time points ...\n",
      "0 bad epochs dropped\n"
     ]
    }
   ],
   "source": [
    "import numpy as np\n",
    "import matplotlib.pyplot as plt\n",
    "\n",
    "from sklearn.pipeline import Pipeline\n",
    "from sklearn.discriminant_analysis import LinearDiscriminantAnalysis\n",
    "from sklearn.model_selection import ShuffleSplit, cross_val_score\n",
    "\n",
    "from mne import Epochs, pick_types, events_from_annotations\n",
    "from mne.channels import read_layout\n",
    "from mne.io import concatenate_raws, read_raw_edf\n",
    "from mne.datasets import eegbci\n",
    "from mne.decoding import CSP\n",
    "\n",
    "print(__doc__)\n",
    "\n",
    "# #############################################################################\n",
    "# # Set parameters and read data\n",
    "\n",
    "# avoid classification of evoked responses by using epochs that start 1s after\n",
    "# cue onset.\n",
    "tmin, tmax = -1., 4.\n",
    "event_id = dict(hands=2, feet=3)\n",
    "subject = 1\n",
    "runs = [6, 10, 14]  # motor imagery: hands vs feet\n",
    "\n",
    "raw_fnames = eegbci.load_data(subject, runs)\n",
    "raw = concatenate_raws([read_raw_edf(f, preload=True) for f in raw_fnames])\n",
    "\n",
    "# strip channel names of \".\" characters\n",
    "raw.rename_channels(lambda x: x.strip('.'))\n",
    "\n",
    "# Apply band-pass filter\n",
    "raw.filter(7., 30., fir_design='firwin', skip_by_annotation='edge')\n",
    "\n",
    "events, _ = events_from_annotations(raw, event_id=dict(T1=2, T2=3))\n",
    "\n",
    "picks = pick_types(raw.info, meg=False, eeg=True, stim=False, eog=False,\n",
    "                   exclude='bads')\n",
    "\n",
    "# Read epochs (train will be done only between 1 and 2s)\n",
    "# Testing will be done with a running classifier\n",
    "epochs = Epochs(raw, events, event_id, tmin, tmax, proj=True, picks=picks,\n",
    "                baseline=None, preload=True)\n",
    "epochs_train = epochs.copy().crop(tmin=1., tmax=2.)\n",
    "labels = epochs.events[:, -1] - 2"
   ]
  },
  {
   "cell_type": "code",
   "execution_count": 5,
   "metadata": {},
   "outputs": [
    {
     "data": {
      "text/plain": [
       "(36,)"
      ]
     },
     "execution_count": 5,
     "metadata": {},
     "output_type": "execute_result"
    }
   ],
   "source": [
    "y_train.shape"
   ]
  },
  {
   "cell_type": "code",
   "execution_count": 3,
   "metadata": {},
   "outputs": [
    {
     "name": "stdout",
     "output_type": "stream",
     "text": [
      "[ 3  6 24 32 19 17 13 42 15  9 16 37 31 27  0 30 29  5 11 33  1 40 21  2\n",
      " 34 23 36 10 22 18 44 20  7 14 28 38] [39 25 26 43 35 41  4 12  8]\n",
      "Computing data rank from raw with rank=None\n",
      "    Using tolerance 9.7e-05 (2.2e-16 eps * 64 dim * 6.8e+09  max singular value)\n",
      "    Estimated rank (mag): 64\n",
      "    MAG: rank 64 computed from 64 data channels with 0 projectors\n",
      "Reducing data rank from 64 -> 64\n",
      "Estimating covariance using EMPIRICAL\n",
      "Done.\n",
      "Computing data rank from raw with rank=None\n",
      "    Using tolerance 0.0001 (2.2e-16 eps * 64 dim * 7.3e+09  max singular value)\n",
      "    Estimated rank (mag): 64\n",
      "    MAG: rank 64 computed from 64 data channels with 0 projectors\n",
      "Reducing data rank from 64 -> 64\n",
      "Estimating covariance using EMPIRICAL\n",
      "Done.\n",
      "[32 41 20 36 29 15 14 33 23 43 37 11 30 40 28  9 21  5 39 31 35 17 44 16\n",
      " 42 34  7  6 27 19  1 25  8 13 24  3] [ 2  0 26 22 12 38 10 18  4]\n",
      "Computing data rank from raw with rank=None\n",
      "    Using tolerance 9.5e-05 (2.2e-16 eps * 64 dim * 6.7e+09  max singular value)\n",
      "    Estimated rank (mag): 64\n",
      "    MAG: rank 64 computed from 64 data channels with 0 projectors\n",
      "Reducing data rank from 64 -> 64\n",
      "Estimating covariance using EMPIRICAL\n",
      "Done.\n",
      "Computing data rank from raw with rank=None\n",
      "    Using tolerance 0.0001 (2.2e-16 eps * 64 dim * 7.2e+09  max singular value)\n",
      "    Estimated rank (mag): 64\n",
      "    MAG: rank 64 computed from 64 data channels with 0 projectors\n",
      "Reducing data rank from 64 -> 64\n",
      "Estimating covariance using EMPIRICAL\n",
      "Done.\n",
      "[12 27 25 19 41 21 15 26  1 11 29 22 33 37 38  9  4 35 42  2 34 16 18 10\n",
      " 36  7 43 23  8  6 24  0 14 28 40 44] [ 3 17 31 20 13 30 39 32  5]\n",
      "Computing data rank from raw with rank=None\n",
      "    Using tolerance 0.00012 (2.2e-16 eps * 64 dim * 8.6e+09  max singular value)\n",
      "    Estimated rank (mag): 64\n",
      "    MAG: rank 64 computed from 64 data channels with 0 projectors\n",
      "Reducing data rank from 64 -> 64\n",
      "Estimating covariance using EMPIRICAL\n",
      "Done.\n",
      "Computing data rank from raw with rank=None\n",
      "    Using tolerance 9.6e-05 (2.2e-16 eps * 64 dim * 6.7e+09  max singular value)\n",
      "    Estimated rank (mag): 64\n",
      "    MAG: rank 64 computed from 64 data channels with 0 projectors\n",
      "Reducing data rank from 64 -> 64\n",
      "Estimating covariance using EMPIRICAL\n",
      "Done.\n",
      "[30 20  5 39 37 40 29  9  1 24 23 27 10 35 33 32 22 42  3 28 19 16  6 31\n",
      " 12 41 36 14  8 26 38 13 25  4  0  2] [17 44  7 15 34 11 43 21 18]\n",
      "Computing data rank from raw with rank=None\n",
      "    Using tolerance 0.00011 (2.2e-16 eps * 64 dim * 7.5e+09  max singular value)\n",
      "    Estimated rank (mag): 64\n",
      "    MAG: rank 64 computed from 64 data channels with 0 projectors\n",
      "Reducing data rank from 64 -> 64\n",
      "Estimating covariance using EMPIRICAL\n",
      "Done.\n",
      "Computing data rank from raw with rank=None\n",
      "    Using tolerance 0.00011 (2.2e-16 eps * 64 dim * 7.6e+09  max singular value)\n",
      "    Estimated rank (mag): 64\n",
      "    MAG: rank 64 computed from 64 data channels with 0 projectors\n",
      "Reducing data rank from 64 -> 64\n",
      "Estimating covariance using EMPIRICAL\n",
      "Done.\n",
      "[22 43 30 13 21  0 10 17 24  4 41 42  1  6 11 28 25 27 16 19 37 34 35 31\n",
      " 14 23 32 36  8 26  7  5 38  2 40 12] [29 15  3 44 20  9 33 39 18]\n",
      "Computing data rank from raw with rank=None\n",
      "    Using tolerance 0.00012 (2.2e-16 eps * 64 dim * 8.1e+09  max singular value)\n",
      "    Estimated rank (mag): 64\n",
      "    MAG: rank 64 computed from 64 data channels with 0 projectors\n",
      "Reducing data rank from 64 -> 64\n",
      "Estimating covariance using EMPIRICAL\n",
      "Done.\n",
      "Computing data rank from raw with rank=None\n",
      "    Using tolerance 0.0001 (2.2e-16 eps * 64 dim * 7.2e+09  max singular value)\n",
      "    Estimated rank (mag): 64\n",
      "    MAG: rank 64 computed from 64 data channels with 0 projectors\n",
      "Reducing data rank from 64 -> 64\n",
      "Estimating covariance using EMPIRICAL\n",
      "Done.\n",
      "[37 24 14  1 17  7 27 26  6 20 36 18 39 19  2 28 34  8  0 29 15 30 38 21\n",
      " 41 33  4 23 16 10  3 42  5 31 25 43] [40 35 32 22 11 44 13 12  9]\n",
      "Computing data rank from raw with rank=None\n",
      "    Using tolerance 0.00012 (2.2e-16 eps * 64 dim * 8.5e+09  max singular value)\n",
      "    Estimated rank (mag): 64\n",
      "    MAG: rank 64 computed from 64 data channels with 0 projectors\n",
      "Reducing data rank from 64 -> 64\n",
      "Estimating covariance using EMPIRICAL\n",
      "Done.\n",
      "Computing data rank from raw with rank=None\n",
      "    Using tolerance 9.5e-05 (2.2e-16 eps * 64 dim * 6.7e+09  max singular value)\n",
      "    Estimated rank (mag): 64\n",
      "    MAG: rank 64 computed from 64 data channels with 0 projectors\n",
      "Reducing data rank from 64 -> 64\n",
      "Estimating covariance using EMPIRICAL\n",
      "Done.\n",
      "[26 20 14 13 42 12 38 35 33 32 22  5  3  7 16 10 37 28 41 30 21 23 19  2\n",
      " 44 18 34  8 31 36  4 11  0  1 25 15] [ 9 24 39 40  6 43 27 29 17]\n",
      "Computing data rank from raw with rank=None\n",
      "    Using tolerance 0.00012 (2.2e-16 eps * 64 dim * 8.6e+09  max singular value)\n",
      "    Estimated rank (mag): 64\n",
      "    MAG: rank 64 computed from 64 data channels with 0 projectors\n",
      "Reducing data rank from 64 -> 64\n",
      "Estimating covariance using EMPIRICAL\n",
      "Done.\n",
      "Computing data rank from raw with rank=None\n",
      "    Using tolerance 9.6e-05 (2.2e-16 eps * 64 dim * 6.7e+09  max singular value)\n",
      "    Estimated rank (mag): 64\n",
      "    MAG: rank 64 computed from 64 data channels with 0 projectors\n",
      "Reducing data rank from 64 -> 64\n",
      "Estimating covariance using EMPIRICAL\n",
      "Done.\n",
      "[34 23  8 17 30  5 24 13 38 44 40 41  3 18 15  4 28 14 27  0 35 20  1 33\n",
      " 26 43 29 37 21 11 32 16  2  6  7 19] [31 42  9 12 36 22 10 39 25]\n",
      "Computing data rank from raw with rank=None\n",
      "    Using tolerance 0.00012 (2.2e-16 eps * 64 dim * 8.3e+09  max singular value)\n",
      "    Estimated rank (mag): 64\n",
      "    MAG: rank 64 computed from 64 data channels with 0 projectors\n",
      "Reducing data rank from 64 -> 64\n",
      "Estimating covariance using EMPIRICAL\n",
      "Done.\n",
      "Computing data rank from raw with rank=None\n",
      "    Using tolerance 0.0001 (2.2e-16 eps * 64 dim * 7.2e+09  max singular value)\n",
      "    Estimated rank (mag): 64\n",
      "    MAG: rank 64 computed from 64 data channels with 0 projectors\n",
      "Reducing data rank from 64 -> 64\n",
      "Estimating covariance using EMPIRICAL\n",
      "Done.\n",
      "[35 44  3 41 19 18 11 12 36 28  6 15 10  8  0  7 16 25 34  9 26 37  1 42\n",
      " 21 43 23 40 30 24 17  2 32 22 31 20] [27 14  4 39 33 13  5 29 38]\n",
      "Computing data rank from raw with rank=None\n",
      "    Using tolerance 0.0001 (2.2e-16 eps * 64 dim * 7.1e+09  max singular value)\n",
      "    Estimated rank (mag): 64\n",
      "    MAG: rank 64 computed from 64 data channels with 0 projectors\n",
      "Reducing data rank from 64 -> 64\n",
      "Estimating covariance using EMPIRICAL\n",
      "Done.\n",
      "Computing data rank from raw with rank=None\n",
      "    Using tolerance 0.0001 (2.2e-16 eps * 64 dim * 7e+09  max singular value)\n",
      "    Estimated rank (mag): 64\n",
      "    MAG: rank 64 computed from 64 data channels with 0 projectors\n",
      "Reducing data rank from 64 -> 64\n",
      "Estimating covariance using EMPIRICAL\n",
      "Done.\n",
      "[26 16 36 40  0 41 13  9 23 15 43  2 34 19 12 35  3  6  4 29 11 44 20  7\n",
      " 32 14  5 37 39 24 21 22 31  1 33 27] [17 28 10 25 18 38  8 42 30]\n",
      "Computing data rank from raw with rank=None\n",
      "    Using tolerance 0.00011 (2.2e-16 eps * 64 dim * 7.7e+09  max singular value)\n",
      "    Estimated rank (mag): 64\n",
      "    MAG: rank 64 computed from 64 data channels with 0 projectors\n",
      "Reducing data rank from 64 -> 64\n",
      "Estimating covariance using EMPIRICAL\n",
      "Done.\n",
      "Computing data rank from raw with rank=None\n",
      "    Using tolerance 0.0001 (2.2e-16 eps * 64 dim * 7.3e+09  max singular value)\n",
      "    Estimated rank (mag): 64\n",
      "    MAG: rank 64 computed from 64 data channels with 0 projectors\n",
      "Reducing data rank from 64 -> 64\n",
      "Estimating covariance using EMPIRICAL\n",
      "Done.\n"
     ]
    }
   ],
   "source": [
    "csp = CSP(n_components=64, reg=None, log=None, norm_trace=False,transform_into='csp_space')\n",
    "\n",
    "epochs_data = epochs.get_data()\n",
    "epochs_data_train = epochs_train.get_data()\n",
    "cv = ShuffleSplit(10, test_size=0.2, random_state=42)\n",
    "cv_split = cv.split(epochs_data_train)\n",
    "for train_idx, test_idx in cv_split:\n",
    "    print(train_idx,test_idx)\n",
    "    y_train, y_test = labels[train_idx], labels[test_idx]\n",
    "\n",
    "    X_train = csp.fit_transform(epochs_data_train[train_idx], y_train)\n",
    "    X_test = csp.transform(epochs_data_train[test_idx])"
   ]
  },
  {
   "cell_type": "code",
   "execution_count": 17,
   "metadata": {},
   "outputs": [
    {
     "data": {
      "text/plain": [
       "array([1, 0, 0, 1, 0, 1, 1, 0, 0, 1, 1, 0, 0, 1, 1, 0, 1, 1, 0, 1, 0, 0,\n",
       "       1, 1, 0, 0, 1, 1, 0, 1, 1, 0, 1, 0, 0, 1, 0, 1, 0, 1, 1, 0, 1, 0,\n",
       "       1])"
      ]
     },
     "execution_count": 17,
     "metadata": {},
     "output_type": "execute_result"
    }
   ],
   "source": [
    "labels"
   ]
  },
  {
   "cell_type": "code",
   "execution_count": 4,
   "metadata": {},
   "outputs": [
    {
     "name": "stdout",
     "output_type": "stream",
     "text": [
      "(36, 64, 161)\n"
     ]
    }
   ],
   "source": [
    "print(epochs_data_train[train_idx].shape)"
   ]
  },
  {
   "cell_type": "code",
   "execution_count": 11,
   "metadata": {},
   "outputs": [
    {
     "data": {
      "text/plain": [
       "array([[[ 7.41003696e-08,  7.67937359e-06,  8.28728506e-06, ...,\n",
       "         -3.59676869e-06, -1.70368554e-05, -2.20881031e-05],\n",
       "        [-1.45987909e-06,  6.02861535e-06,  6.90751562e-06, ...,\n",
       "         -1.42806042e-05, -2.46842275e-05, -2.46151731e-05],\n",
       "        [-1.16161688e-05, -1.22545977e-06,  5.11143148e-06, ...,\n",
       "         -1.29178509e-05, -1.83998041e-05, -1.92278408e-05],\n",
       "        ...,\n",
       "        [ 4.48779566e-06,  5.37720556e-06,  8.85273511e-06, ...,\n",
       "          3.94623804e-05,  3.74264935e-05,  1.75330420e-05],\n",
       "        [ 2.44260252e-05,  2.95298648e-05,  3.12884873e-05, ...,\n",
       "          4.33848498e-05,  2.98571620e-05,  6.21245592e-06],\n",
       "        [ 1.19242062e-05,  1.48466229e-05,  1.39721839e-05, ...,\n",
       "          3.05620585e-05,  3.40502733e-05,  2.02348830e-05]],\n",
       "\n",
       "       [[-6.27576188e-06, -5.82008405e-07,  3.63030896e-06, ...,\n",
       "         -1.66813520e-05, -1.41266917e-05, -1.17255292e-05],\n",
       "        [-3.42076611e-06, -1.68350965e-06, -1.67066580e-06, ...,\n",
       "         -1.58844609e-05, -1.96338345e-05, -1.86997456e-05],\n",
       "        [-2.62018000e-06, -2.79493022e-06, -6.54378868e-06, ...,\n",
       "         -1.19957090e-05, -1.71531124e-05, -1.80341671e-05],\n",
       "        ...,\n",
       "        [-2.72715346e-06, -6.18855931e-06, -4.52639699e-06, ...,\n",
       "         -5.19281952e-05, -3.76914035e-05, -2.22087946e-05],\n",
       "        [ 4.41640793e-06, -3.53829543e-06, -1.03985255e-05, ...,\n",
       "         -4.09681967e-05, -3.72541159e-05, -2.24032210e-05],\n",
       "        [-1.07453062e-05, -7.80007527e-06,  1.60217450e-06, ...,\n",
       "         -4.78333245e-05, -3.36858943e-05, -1.86919237e-05]],\n",
       "\n",
       "       [[-7.95238476e-06, -9.04104314e-06, -1.10525411e-05, ...,\n",
       "         -9.04579559e-06, -2.73997299e-05, -4.63561426e-05],\n",
       "        [-6.77741768e-06, -1.22904894e-05, -1.88521649e-05, ...,\n",
       "         -1.31425010e-05, -2.98218115e-05, -4.91597656e-05],\n",
       "        [-1.84853627e-06, -1.29009120e-05, -2.26172127e-05, ...,\n",
       "         -1.65352288e-05, -2.88015846e-05, -4.53875735e-05],\n",
       "        ...,\n",
       "        [ 2.18943441e-05,  2.23671547e-05,  1.84141856e-05, ...,\n",
       "         -7.24440726e-06, -1.34862178e-05, -2.50592359e-05],\n",
       "        [ 3.24949168e-05,  3.87971365e-05,  3.27414174e-05, ...,\n",
       "         -2.32705112e-05, -2.46023524e-05, -3.13461200e-05],\n",
       "        [ 2.23921475e-05,  2.47276419e-05,  1.83236970e-05, ...,\n",
       "          1.11294180e-06, -3.69049942e-06, -1.80596437e-05]],\n",
       "\n",
       "       ...,\n",
       "\n",
       "       [[ 4.40627940e-06,  1.05920050e-05,  5.44629859e-06, ...,\n",
       "         -4.82999732e-06, -1.02991102e-05, -3.53087037e-06],\n",
       "        [ 6.67718671e-06,  1.79565194e-05,  1.61430146e-05, ...,\n",
       "          4.27259827e-06,  2.08954180e-06,  6.33010621e-06],\n",
       "        [ 1.56440665e-05,  2.77969988e-05,  2.35386529e-05, ...,\n",
       "          1.09386409e-06, -3.39407594e-06, -5.47765372e-07],\n",
       "        ...,\n",
       "        [ 1.15722001e-05,  3.10610865e-05,  3.41864998e-05, ...,\n",
       "         -1.65384852e-05,  4.53014172e-06,  1.75256158e-05],\n",
       "        [ 1.35759616e-05,  2.17849595e-05,  1.87225309e-05, ...,\n",
       "         -6.16588191e-06,  1.05659049e-05,  1.17808609e-05],\n",
       "        [ 8.67683220e-06,  2.13306196e-05,  2.64805235e-05, ...,\n",
       "         -7.96131389e-06, -5.70048871e-07, -5.79376727e-06]],\n",
       "\n",
       "       [[ 8.61065905e-06,  3.71802721e-06, -4.99407625e-06, ...,\n",
       "          1.75805235e-06,  1.89830650e-06, -3.68132653e-06],\n",
       "        [ 1.11578168e-05,  7.56999875e-06, -1.20940570e-06, ...,\n",
       "          4.24627278e-08,  1.49255067e-07, -3.52083540e-06],\n",
       "        [ 1.04699379e-05,  9.11875978e-06,  1.80502537e-06, ...,\n",
       "          1.46998392e-07, -2.39259477e-07, -3.15471734e-06],\n",
       "        ...,\n",
       "        [ 8.63494593e-06,  2.93061228e-05,  3.63322857e-05, ...,\n",
       "          1.26201851e-05,  1.24960206e-05,  5.68620048e-06],\n",
       "        [ 7.97936554e-06,  3.81043370e-05,  4.60249901e-05, ...,\n",
       "          8.92815741e-06,  2.47836023e-05,  2.77094062e-05],\n",
       "        [-5.62459533e-06,  2.87411278e-05,  4.54909820e-05, ...,\n",
       "          5.56595622e-06,  6.33607282e-06,  3.13055111e-06]],\n",
       "\n",
       "       [[-1.39047582e-05, -1.95094092e-05, -1.36877327e-05, ...,\n",
       "          2.93378373e-06, -1.45511369e-05, -2.43953834e-05],\n",
       "        [-1.25817608e-05, -1.53877020e-05, -8.41750745e-06, ...,\n",
       "          3.02212971e-06, -2.22610498e-05, -3.34007962e-05],\n",
       "        [-1.32566287e-05, -8.98062555e-06,  2.57098504e-07, ...,\n",
       "         -9.52342877e-08, -2.88708442e-05, -3.86138307e-05],\n",
       "        ...,\n",
       "        [ 9.59066363e-06,  2.74146266e-05,  3.34037750e-05, ...,\n",
       "         -8.63038079e-06, -1.83979583e-05, -1.57010877e-05],\n",
       "        [ 2.34474122e-05,  3.49284325e-05,  3.20725994e-05, ...,\n",
       "         -9.64655398e-06, -1.69459630e-05, -9.37678699e-06],\n",
       "        [ 1.24868529e-05,  3.15190623e-05,  3.73662342e-05, ...,\n",
       "          1.01453985e-06, -8.56606008e-06, -8.13463036e-06]]])"
      ]
     },
     "execution_count": 11,
     "metadata": {},
     "output_type": "execute_result"
    }
   ],
   "source": [
    "epochs_data_train"
   ]
  },
  {
   "cell_type": "code",
   "execution_count": 13,
   "metadata": {},
   "outputs": [
    {
     "data": {
      "text/plain": [
       "(64, 161)"
      ]
     },
     "execution_count": 13,
     "metadata": {},
     "output_type": "execute_result"
    }
   ],
   "source": [
    "epochs_data_train[1].shape"
   ]
  },
  {
   "cell_type": "code",
   "execution_count": 5,
   "metadata": {},
   "outputs": [
    {
     "data": {
      "text/plain": [
       "{0, 1}"
      ]
     },
     "execution_count": 5,
     "metadata": {},
     "output_type": "execute_result"
    }
   ],
   "source": [
    "set(labels)"
   ]
  },
  {
   "cell_type": "code",
   "execution_count": 6,
   "metadata": {},
   "outputs": [
    {
     "data": {
      "text/plain": [
       "(45, 64, 801)"
      ]
     },
     "execution_count": 6,
     "metadata": {},
     "output_type": "execute_result"
    }
   ],
   "source": [
    "epochs_data.shape"
   ]
  },
  {
   "cell_type": "code",
   "execution_count": 5,
   "metadata": {},
   "outputs": [
    {
     "data": {
      "text/plain": [
       "((36, 64, 161), (36,), (9, 64, 161), (9,))"
      ]
     },
     "execution_count": 5,
     "metadata": {},
     "output_type": "execute_result"
    }
   ],
   "source": [
    "epochs_data_train[train_idx].shape,y_train.shape,epochs_data_train[test_idx].shape,y_test.shape"
   ]
  },
  {
   "cell_type": "code",
   "execution_count": 15,
   "metadata": {},
   "outputs": [
    {
     "name": "stdout",
     "output_type": "stream",
     "text": [
      "Computing data rank from raw with rank=None\n",
      "    Using tolerance 0.00011 (2.2e-16 eps * 64 dim * 7.7e+09  max singular value)\n",
      "    Estimated rank (mag): 64\n",
      "    MAG: rank 64 computed from 64 data channels with 0 projectors\n",
      "Reducing data rank from 64 -> 64\n",
      "Estimating covariance using EMPIRICAL\n",
      "Done.\n",
      "Computing data rank from raw with rank=None\n",
      "    Using tolerance 0.0001 (2.2e-16 eps * 64 dim * 7.3e+09  max singular value)\n",
      "    Estimated rank (mag): 64\n",
      "    MAG: rank 64 computed from 64 data channels with 0 projectors\n",
      "Reducing data rank from 64 -> 64\n",
      "Estimating covariance using EMPIRICAL\n",
      "Done.\n"
     ]
    },
    {
     "data": {
      "text/plain": [
       "Pipeline(memory=None,\n",
       "     steps=[('CSP', CSP(cov_est='concat', cov_method_params=None, log=True, n_components=4,\n",
       "  norm_trace=False, rank=None, reg=None, transform_into='average_power')), ('LDA', LinearDiscriminantAnalysis(n_components=None, priors=None, shrinkage=None,\n",
       "              solver='svd', store_covariance=False, tol=0.0001))])"
      ]
     },
     "execution_count": 15,
     "metadata": {},
     "output_type": "execute_result"
    }
   ],
   "source": [
    "# Define a monte-carlo cross-validation generator (reduce variance):\n",
    "\n",
    "# Assemble a classifier\n",
    "lda = LinearDiscriminantAnalysis()\n",
    "csp = CSP(n_components=4, reg=None, log=True, norm_trace=False)\n",
    "\n",
    "# Use scikit-learn Pipeline with cross_val_score function\n",
    "clf = Pipeline([('CSP', csp), ('LDA', lda)])#\n",
    "clf.fit(epochs_data_train[train_idx],y_train)"
   ]
  },
  {
   "cell_type": "code",
   "execution_count": 19,
   "metadata": {},
   "outputs": [
    {
     "data": {
      "text/plain": [
       "array([1, 0, 1, 0, 0, 1, 0, 1, 1])"
      ]
     },
     "execution_count": 19,
     "metadata": {},
     "output_type": "execute_result"
    }
   ],
   "source": [
    "y_pred=clf.predict(epochs_data_train[test_idx])\n",
    "y_pred"
   ]
  },
  {
   "cell_type": "code",
   "execution_count": 20,
   "metadata": {},
   "outputs": [
    {
     "data": {
      "text/plain": [
       "array([1, 0, 1, 0, 0, 0, 0, 1, 1])"
      ]
     },
     "execution_count": 20,
     "metadata": {},
     "output_type": "execute_result"
    }
   ],
   "source": [
    "y_true=y_test\n",
    "y_true"
   ]
  },
  {
   "cell_type": "code",
   "execution_count": 21,
   "metadata": {},
   "outputs": [
    {
     "name": "stdout",
     "output_type": "stream",
     "text": [
      "accuracy: 0.8888888888888888\n",
      "             precision    recall  f1-score   support\n",
      "\n",
      "          0       1.00      0.80      0.89         5\n",
      "          1       0.80      1.00      0.89         4\n",
      "\n",
      "avg / total       0.91      0.89      0.89         9\n",
      "\n"
     ]
    }
   ],
   "source": [
    "from sklearn.metrics import accuracy_score,confusion_matrix,classification_report\n",
    "print('accuracy:',accuracy_score(y_true,y_pred))\n",
    "print(classification_report(y_true,y_pred))"
   ]
  },
  {
   "cell_type": "code",
   "execution_count": null,
   "metadata": {},
   "outputs": [],
   "source": []
  }
 ],
 "metadata": {
  "kernelspec": {
   "display_name": "Python 3",
   "language": "python",
   "name": "python3"
  },
  "language_info": {
   "codemirror_mode": {
    "name": "ipython",
    "version": 3
   },
   "file_extension": ".py",
   "mimetype": "text/x-python",
   "name": "python",
   "nbconvert_exporter": "python",
   "pygments_lexer": "ipython3",
   "version": "3.6.12"
  }
 },
 "nbformat": 4,
 "nbformat_minor": 4
}
